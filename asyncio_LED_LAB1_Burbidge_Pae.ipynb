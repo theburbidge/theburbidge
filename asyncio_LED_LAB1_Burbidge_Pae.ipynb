{
 "cells": [
  {
   "cell_type": "markdown",
   "metadata": {},
   "source": [
    "# Importing some libraries"
   ]
  },
  {
   "cell_type": "code",
   "execution_count": 1,
   "metadata": {},
   "outputs": [
    {
     "data": {
      "application/javascript": [
       "\n",
       "require(['notebook/js/codecell'], function(codecell) {\n",
       "  codecell.CodeCell.options_default.highlight_modes[\n",
       "      'magic_text/x-csrc'] = {'reg':[/^%%microblaze/]};\n",
       "  Jupyter.notebook.events.one('kernel_ready.Kernel', function(){\n",
       "      Jupyter.notebook.get_cells().map(function(cell){\n",
       "          if (cell.cell_type == 'code'){ cell.auto_highlight(); } }) ;\n",
       "  });\n",
       "});\n"
      ]
     },
     "metadata": {},
     "output_type": "display_data"
    }
   ],
   "source": [
    "from pynq.overlays.base import BaseOverlay\n",
    "import pynq.lib.rgbled as rgbled \n",
    "import time"
   ]
  },
  {
   "cell_type": "markdown",
   "metadata": {},
   "source": [
    "# Programming the PL"
   ]
  },
  {
   "cell_type": "code",
   "execution_count": 2,
   "metadata": {},
   "outputs": [],
   "source": [
    "base = BaseOverlay(\"base.bit\")"
   ]
  },
  {
   "cell_type": "markdown",
   "metadata": {},
   "source": [
    "# Defining buttons and LEDs"
   ]
  },
  {
   "cell_type": "code",
   "execution_count": 4,
   "metadata": {},
   "outputs": [],
   "source": [
    "btns = base.btns_gpio\n",
    "led4 = rgbled.RGBLED(4)\n",
    "led5 = rgbled.RGBLED(5)"
   ]
  },
  {
   "cell_type": "markdown",
   "metadata": {},
   "source": [
    "# Lab work\n",
    "Using the code from previous cell as a template, write a code to start the blinking when button 0 is pushed and stop the blinking when button 1 is pushed."
   ]
  },
  {
   "cell_type": "code",
   "execution_count": null,
   "metadata": {},
   "outputs": [],
   "source": [
    "# write your code here."
   ]
  },
  {
   "cell_type": "code",
   "execution_count": 5,
   "metadata": {},
   "outputs": [
    {
     "name": "stdout",
     "output_type": "stream",
     "text": [
      "Done.\n"
     ]
    }
   ],
   "source": [
    "cond = True\n",
    "while cond:\n",
    "    if btns.read() ==1:\n",
    "        cond2 = True;\n",
    "        while cond2:\n",
    "            led4.write(0x1)\n",
    "            led5.write(0x7)\n",
    "            if btns.read() == 2:\n",
    "                cond = False\n",
    "                break\n",
    "            time.sleep(0.1)\n",
    "            led4.write(0x0)\n",
    "            led5.write(0x0)\n",
    "            if btns.read() == 2:\n",
    "                cond = False\n",
    "                break\n",
    "            time.sleep(0.05)\n",
    "            led4.write(0x1)\n",
    "            led5.write(0x7)\n",
    "            if btns.read() == 2:\n",
    "                cond = False\n",
    "                break\n",
    "            time.sleep(0.1)\n",
    "            led4.write(0x0)\n",
    "            led5.write(0x0)\n",
    "            if btns.read() == 2:\n",
    "                cond = False\n",
    "                break\n",
    "            time.sleep(0.05)\n",
    "    if cond == False:\n",
    "        break\n",
    "    \n",
    "led4.write(0x0)\n",
    "led5.write(0x0)\n",
    "print(\"Done.\")"
   ]
  },
  {
   "cell_type": "code",
   "execution_count": null,
   "metadata": {},
   "outputs": [],
   "source": []
  }
 ],
 "metadata": {
  "kernelspec": {
   "display_name": "Python 3",
   "language": "python",
   "name": "python3"
  },
  "language_info": {
   "codemirror_mode": {
    "name": "ipython",
    "version": 3
   },
   "file_extension": ".py",
   "mimetype": "text/x-python",
   "name": "python",
   "nbconvert_exporter": "python",
   "pygments_lexer": "ipython3",
   "version": "3.6.5"
  }
 },
 "nbformat": 4,
 "nbformat_minor": 2
}
